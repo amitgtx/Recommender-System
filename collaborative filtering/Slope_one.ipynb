{
 "cells": [
  {
   "cell_type": "code",
   "execution_count": 45,
   "metadata": {
    "collapsed": false
   },
   "outputs": [],
   "source": [
    "import numpy as np\n",
    "import pandas as pd\n",
    "# l=[\"google\",\"facebook\",\"yahoo\",\"youtube\",\"wikipedia\",\"flipkart\",\"amazon\"]\n",
    "# n=7 #no. of sites\n",
    "# m=20 #no. of users\n",
    "# s=600 #no. of data\n",
    "# av_diff=[[(-1,-1) for _ in xrange(n)]for _ in xrange(n)]\n",
    "# d={}\n",
    "# a=[[-1 for _ in xrange(n)]for _ in xrange(m)]\n",
    "# r1=np.random.randint(0,n,s) #generating random sites\n",
    "# r2=np.random.randint(0,m,s) #generating random users\n",
    "# r3=[(r2[i],r1[i]) for i in xrange(s)] #merging users and sites"
   ]
  },
  {
   "cell_type": "code",
   "execution_count": 54,
   "metadata": {
    "collapsed": true
   },
   "outputs": [],
   "source": [
    "l=[\"Item A\",\"Item B\",\"Item C\"]\n",
    "n=3 #no. of sites\n",
    "m=3 #no. of users\n",
    "av_diff=[[(-1,-1) for _ in xrange(n)]for _ in xrange(n)]\n",
    "a=[[5,3,2],[3,4,-1],[-1,2,5]]"
   ]
  },
  {
   "cell_type": "code",
   "execution_count": 55,
   "metadata": {
    "collapsed": false
   },
   "outputs": [],
   "source": [
    "# for i in xrange(s):\n",
    "#     user=\"User \"+str(r3[i][0])\n",
    "#     site=l[r3[i][1]]\n",
    "#     key=user,site\n",
    "#     tmp=a[r3[i][0]][r3[i][1]]\n",
    "#     if(tmp==-1):\n",
    "#         a[r3[i][0]][r3[i][1]]=1\n",
    "#     else:\n",
    "#         a[r3[i][0]][r3[i][1]]+=1\n",
    "#     if key in d:\n",
    "#         d[key]+=1\n",
    "#     else:\n",
    "#         d[key]=1"
   ]
  },
  {
   "cell_type": "code",
   "execution_count": 56,
   "metadata": {
    "collapsed": false
   },
   "outputs": [
    {
     "data": {
      "text/html": [
       "<div>\n",
       "<table border=\"1\" class=\"dataframe\">\n",
       "  <thead>\n",
       "    <tr style=\"text-align: right;\">\n",
       "      <th></th>\n",
       "      <th>Item A</th>\n",
       "      <th>Item B</th>\n",
       "      <th>Item C</th>\n",
       "    </tr>\n",
       "  </thead>\n",
       "  <tbody>\n",
       "    <tr>\n",
       "      <th>0</th>\n",
       "      <td>5</td>\n",
       "      <td>3</td>\n",
       "      <td>2</td>\n",
       "    </tr>\n",
       "    <tr>\n",
       "      <th>1</th>\n",
       "      <td>3</td>\n",
       "      <td>4</td>\n",
       "      <td>-1</td>\n",
       "    </tr>\n",
       "    <tr>\n",
       "      <th>2</th>\n",
       "      <td>-1</td>\n",
       "      <td>2</td>\n",
       "      <td>5</td>\n",
       "    </tr>\n",
       "  </tbody>\n",
       "</table>\n",
       "</div>"
      ],
      "text/plain": [
       "   Item A  Item B  Item C\n",
       "0       5       3       2\n",
       "1       3       4      -1\n",
       "2      -1       2       5"
      ]
     },
     "execution_count": 56,
     "metadata": {},
     "output_type": "execute_result"
    }
   ],
   "source": [
    "df1=pd.DataFrame(a)\n",
    "df1.columns=l\n",
    "df1"
   ]
  },
  {
   "cell_type": "code",
   "execution_count": 57,
   "metadata": {
    "collapsed": false
   },
   "outputs": [],
   "source": [
    "for i in xrange(n):\n",
    "    for j in xrange(n):\n",
    "        tmp=0.0\n",
    "        cnt=0.0\n",
    "        for k in xrange(m):\n",
    "            if(a[k][i]==-1 or a[k][j]==-1):\n",
    "                continue\n",
    "            tmp+=(a[k][i]-a[k][j])\n",
    "            cnt+=1\n",
    "        tmp_av=round(tmp/cnt,2)\n",
    "        av_diff[i][j]=(tmp_av,cnt) #Storing pair(average difference,no. of users who rated both i & j site)"
   ]
  },
  {
   "cell_type": "code",
   "execution_count": 58,
   "metadata": {
    "collapsed": false
   },
   "outputs": [],
   "source": [
    "df2=pd.DataFrame(av_diff)"
   ]
  },
  {
   "cell_type": "code",
   "execution_count": 59,
   "metadata": {
    "collapsed": false
   },
   "outputs": [
    {
     "data": {
      "text/html": [
       "<div>\n",
       "<table border=\"1\" class=\"dataframe\">\n",
       "  <thead>\n",
       "    <tr style=\"text-align: right;\">\n",
       "      <th></th>\n",
       "      <th>0</th>\n",
       "      <th>1</th>\n",
       "      <th>2</th>\n",
       "    </tr>\n",
       "  </thead>\n",
       "  <tbody>\n",
       "    <tr>\n",
       "      <th>0</th>\n",
       "      <td>(0.0, 2.0)</td>\n",
       "      <td>(0.5, 2.0)</td>\n",
       "      <td>(3.0, 1.0)</td>\n",
       "    </tr>\n",
       "    <tr>\n",
       "      <th>1</th>\n",
       "      <td>(-0.5, 2.0)</td>\n",
       "      <td>(0.0, 3.0)</td>\n",
       "      <td>(-1.0, 2.0)</td>\n",
       "    </tr>\n",
       "    <tr>\n",
       "      <th>2</th>\n",
       "      <td>(-3.0, 1.0)</td>\n",
       "      <td>(1.0, 2.0)</td>\n",
       "      <td>(0.0, 2.0)</td>\n",
       "    </tr>\n",
       "  </tbody>\n",
       "</table>\n",
       "</div>"
      ],
      "text/plain": [
       "             0           1            2\n",
       "0   (0.0, 2.0)  (0.5, 2.0)   (3.0, 1.0)\n",
       "1  (-0.5, 2.0)  (0.0, 3.0)  (-1.0, 2.0)\n",
       "2  (-3.0, 1.0)  (1.0, 2.0)   (0.0, 2.0)"
      ]
     },
     "execution_count": 59,
     "metadata": {},
     "output_type": "execute_result"
    }
   ],
   "source": [
    "df2 #Item similarity matrix"
   ]
  },
  {
   "cell_type": "code",
   "execution_count": 62,
   "metadata": {
    "collapsed": false
   },
   "outputs": [
    {
     "data": {
      "text/html": [
       "<div>\n",
       "<table border=\"1\" class=\"dataframe\">\n",
       "  <thead>\n",
       "    <tr style=\"text-align: right;\">\n",
       "      <th></th>\n",
       "      <th>Item A</th>\n",
       "      <th>Item B</th>\n",
       "      <th>Item C</th>\n",
       "    </tr>\n",
       "  </thead>\n",
       "  <tbody>\n",
       "    <tr>\n",
       "      <th>0</th>\n",
       "      <td>5</td>\n",
       "      <td>3</td>\n",
       "      <td>2</td>\n",
       "    </tr>\n",
       "    <tr>\n",
       "      <th>1</th>\n",
       "      <td>3</td>\n",
       "      <td>4</td>\n",
       "      <td>3</td>\n",
       "    </tr>\n",
       "    <tr>\n",
       "      <th>2</th>\n",
       "      <td>4</td>\n",
       "      <td>2</td>\n",
       "      <td>5</td>\n",
       "    </tr>\n",
       "  </tbody>\n",
       "</table>\n",
       "</div>"
      ],
      "text/plain": [
       "   Item A  Item B  Item C\n",
       "0       5       3       2\n",
       "1       3       4       3\n",
       "2       4       2       5"
      ]
     },
     "execution_count": 62,
     "metadata": {},
     "output_type": "execute_result"
    }
   ],
   "source": [
    "for i in xrange(m):\n",
    "    for j in xrange(n):\n",
    "        if(a[i][j]!=-1):continue #skipping those sites which are already rated\n",
    "        num=0.0\n",
    "        den=0.0\n",
    "        for k in xrange(n):\n",
    "            if(a[i][k]==-1):continue #skipping those site which are not rated\n",
    "            num+=(av_diff[j][k][0]+a[i][k])*av_diff[j][k][1] #Weighted sum\n",
    "            den+=av_diff[j][k][1]\n",
    "        a[i][j]=int(num/den)\n",
    "df3=pd.DataFrame(a)\n",
    "df3.columns=l\n",
    "df3"
   ]
  },
  {
   "cell_type": "code",
   "execution_count": null,
   "metadata": {
    "collapsed": true
   },
   "outputs": [],
   "source": []
  }
 ],
 "metadata": {
  "kernelspec": {
   "display_name": "Python 2",
   "language": "python",
   "name": "python2"
  },
  "language_info": {
   "codemirror_mode": {
    "name": "ipython",
    "version": 2
   },
   "file_extension": ".py",
   "mimetype": "text/x-python",
   "name": "python",
   "nbconvert_exporter": "python",
   "pygments_lexer": "ipython2",
   "version": "2.7.12"
  }
 },
 "nbformat": 4,
 "nbformat_minor": 0
}
